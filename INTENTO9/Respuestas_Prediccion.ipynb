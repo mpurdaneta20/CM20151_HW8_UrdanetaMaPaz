{
 "metadata": {
  "name": "",
  "signature": "sha256:f730dfa9b98a21f92396cba664784bc417df619dff1f827ce618aeac2c500a92"
 },
 "nbformat": 3,
 "nbformat_minor": 0,
 "worksheets": [
  {
   "cells": [
    {
     "cell_type": "heading",
     "level": 1,
     "metadata": {},
     "source": [
      "1. Qu\u00e9 otros datos pueden ayudarlo a mejorar su predicci\u00f3n?\n"
     ]
    },
    {
     "cell_type": "raw",
     "metadata": {},
     "source": [
      "Se puede determinar que aunque el modelo no plantea omision de variables, dado que la prueba de RESET de Ramsey no logra rechazar la \n",
      "hipotesis nula (sesgo de especificacion dada omision de variable), tal vez saber el lugar (ubicacion) del restaurante representaria \n",
      "un buen dato que ayudaria a realizar una buena/mejor estimacion. Otra variable puede ser capacidada del restauranre dado que un mayor \n",
      "capacidad equivale a un mayor numero de ordenes.   "
     ]
    },
    {
     "cell_type": "heading",
     "level": 1,
     "metadata": {},
     "source": [
      "2. Cu\u00e1l d\u00eda de la semana presenta el n\u00famero mayor de \u00f3rdenes?"
     ]
    },
    {
     "cell_type": "raw",
     "metadata": {},
     "source": [
      "Aunque el numero de ordenes es muy similar en la mayoria de los casos se podria decir que el dia que mayor numero de ordenes se reciben es el dia Viernes. Aunque el dia Sabado tambien genera un gran numero de ordenes "
     ]
    },
    {
     "cell_type": "heading",
     "level": 1,
     "metadata": {},
     "source": [
      "3. Cu\u00e1l d\u00eda de la semana presenta el menor n\u00famero de \u00f3rdenes?"
     ]
    },
    {
     "cell_type": "raw",
     "metadata": {},
     "source": [
      "Igual que en el punto anterior el numero de ordenes es casi el mismo. Se determina que el dia que menos se reciben ordenes es el dia Lunes."
     ]
    }
   ],
   "metadata": {}
  }
 ]
}